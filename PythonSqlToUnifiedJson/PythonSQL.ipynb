{
 "cells": [
  {
   "cell_type": "code",
   "execution_count": 1,
   "id": "b7189e3c",
   "metadata": {},
   "outputs": [
    {
     "name": "stdout",
     "output_type": "stream",
     "text": [
      "<connection object at 0x7fd65c835800; dsn: 'user=postgres password=xxx dbname=tpch host=localhost', closed: 0>\n"
     ]
    }
   ],
   "source": [
    "from IPython.display import display, HTML\n",
    "import os\n",
    "import psycopg2\n",
    "import json\n",
    "import pandas as pd\n",
    "\n",
    "\n",
    "conn = psycopg2.connect(\n",
    "    host=\"localhost\",\n",
    "    database=\"tpch\",\n",
    "    user=\"postgres\",\n",
    "    password=\"qwer1234\")\n",
    "print(conn)\n",
    "cur = conn.cursor()"
   ]
  },
  {
   "cell_type": "code",
   "execution_count": 2,
   "id": "e4d07ab7",
   "metadata": {},
   "outputs": [],
   "source": [
    "#We converting json execution plan from postgres to indexed list of all nodes + marking their parent nodes\n",
    "#using Breadth First Search algorithm\n",
    "def bfs(node, node_id):\n",
    "    visited = []\n",
    "    queue = []\n",
    "    node['parent'] = None\n",
    "    queue.append(node)\n",
    "    while queue:\n",
    "        m = queue.pop(0)\n",
    "        \n",
    "        #Proceed possible filter and group_by field via creating extra node\n",
    "        #We assume, that if both of them are present, filtering is taking place after grouping operation\n",
    "        #(Filter --> GroupBy equals Filter after GroupBy, because of tree(child node --> parent node) structure)\n",
    "        if \"Filter\" in m and \"Group Key\" in m:\n",
    "            visited.append({\"operator\":\"Filter\", \"id\":node_id, \"parent\":m[\"parent\"]})\n",
    "            node_id += 1\n",
    "            visited.append({\"operator\":\"GroupBy\", \"id\":node_id, \"parent\":node_id-1})\n",
    "            node_id += 1\n",
    "            p_node = {\"operator\":m['Node Type'], \"id\":node_id, \"parent\":node_id-1}\n",
    "            visited.append(p_node)\n",
    "        \n",
    "        elif \"Filter\" in m:\n",
    "                #p_node['extra_node'] = \"Filter\"\n",
    "                visited.append({\"operator\":\"Filter\", \"id\":node_id, \"parent\":m[\"parent\"]})\n",
    "                node_id += 1 \n",
    "                p_node = {\"operator\":m['Node Type'], \"id\":node_id, \"parent\":node_id-1}\n",
    "                visited.append(p_node)\n",
    "        \n",
    "        elif \"Group Key\" in m:\n",
    "                #p_node['extra_node'] = \"GroupBy\"\n",
    "                visited.append({\"operator\":\"GroupBy\", \"id\":node_id, \"parent\":m[\"parent\"]})\n",
    "                node_id += 1\n",
    "                p_node = {\"operator\":m['Node Type'], \"id\":node_id, \"parent\":node_id-1}\n",
    "                visited.append(p_node)\n",
    "        else:\n",
    "            p_node = {\"operator\":m['Node Type'], \"id\":node_id, \"parent\":m[\"parent\"]}\n",
    "            visited.append(p_node)\n",
    "                \n",
    "        if \"Plans\" in m:\n",
    "            for child in m['Plans']:\n",
    "                child['parent'] = node_id\n",
    "                queue.append(child)\n",
    "        node_id += 1\n",
    "    return visited\n",
    "    #print(*visited, sep=\"\\n\")\n",
    "    \n",
    "#Flipping node list via converting child nodes to predecessors\n",
    "#This structure is essential for DataFarm Unified Json Input\n",
    "def flip_bfs(exec_plan):\n",
    "    #create predecessors list\n",
    "    for node in exec_plan:\n",
    "        node['predecessors'] = []\n",
    "    for node in exec_plan:\n",
    "        if node.get(\"parent\") is not None:\n",
    "            parent = next(item for item in exec_plan if item[\"id\"] == node.get(\"parent\"))\n",
    "            parent['predecessors'].append(node['id'])\n",
    "            del node['parent']\n",
    "        else:\n",
    "            del node['parent']\n",
    "    #append DataSink\n",
    "    exec_plan.insert(0,{\"operator\":\"Data Sink\", \"id\":0, \"predecessors\":[1]})\n",
    "    return exec_plan\n",
    "    #print(*exec_plan, sep=\"\\n\")\n",
    "    \n",
    "#Completing unified json and saving\n",
    "def complete_and_save(exec_plan_flipped):\n",
    "    for node in exec_plan_flipped:\n",
    "        if not node['predecessors']:\n",
    "            node[\"type\"] = \"Data Source\"\n",
    "        elif node['id'] == 0:\n",
    "            node[\"type\"] = \"sink\"\n",
    "        else:\n",
    "            node[\"type\"] = \"operator\"\n",
    "        \n",
    "        for count, value in enumerate(node['predecessors']):\n",
    "            node['predecessors'][count] = {\"id\" : value}\n",
    "        \n",
    "        if not node['predecessors']:\n",
    "            del node['predecessors']\n",
    "    unified_json = {\"executionPlan\" : {\"nodes\" : exec_plan_flipped}}\n",
    "    return unified_json\n",
    "            \n",
    "    "
   ]
  },
  {
   "cell_type": "code",
   "execution_count": 3,
   "id": "294266be",
   "metadata": {},
   "outputs": [
    {
     "name": "stdout",
     "output_type": "stream",
     "text": [
      "Query  sqls/q11\n",
      "Query  sqls/q3\n",
      "Query  sqls/q1\n",
      "Query  sqls/q13\n",
      "Query  sqls/q17\n",
      "Query  sqls/q21\n"
     ]
    }
   ],
   "source": [
    "directory = 'sqls'\n",
    " \n",
    "# iterate over files in\n",
    "# that directory\n",
    "for filename in os.listdir(directory):\n",
    "    f = os.path.join(directory, filename)\n",
    "    # checking if it is a file\n",
    "    if os.path.isfile(f):\n",
    "        sql = open(f, \"r\")\n",
    "        cur = conn.cursor()\n",
    "        cur.execute(\"EXPLAIN (FORMAT JSON)\" + sql.read())\n",
    "        plan = cur.fetchone()[0][0].get(\"Plan\")\n",
    "        print(\"Query \", f)\n",
    "        \n",
    "        unified_json = complete_and_save(flip_bfs(bfs(plan, 1)))\n",
    "        \n",
    "        with open('TPC_H_' + filename + 'Unified.json', 'w', encoding='utf-8') as nf:\n",
    "            json.dump(unified_json, nf, ensure_ascii=False, indent=2)\n",
    "        "
   ]
  },
  {
   "cell_type": "code",
   "execution_count": 4,
   "id": "7e4d3f65",
   "metadata": {},
   "outputs": [],
   "source": [
    "cur.close()\n",
    "conn.close()"
   ]
  }
 ],
 "metadata": {
  "kernelspec": {
   "display_name": "Python 3 (ipykernel)",
   "language": "python",
   "name": "python3"
  },
  "language_info": {
   "codemirror_mode": {
    "name": "ipython",
    "version": 3
   },
   "file_extension": ".py",
   "mimetype": "text/x-python",
   "name": "python",
   "nbconvert_exporter": "python",
   "pygments_lexer": "ipython3",
   "version": "3.10.6"
  }
 },
 "nbformat": 4,
 "nbformat_minor": 5
}
